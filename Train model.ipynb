{
 "cells": [
  {
   "cell_type": "code",
   "execution_count": 16,
   "metadata": {},
   "outputs": [],
   "source": [
    "from keras.models import Sequential\n",
    "from keras.layers import Dense, Conv2D, Flatten"
   ]
  },
  {
   "cell_type": "markdown",
   "metadata": {},
   "source": [
    "### Extract labels and image data"
   ]
  },
  {
   "cell_type": "code",
   "execution_count": 17,
   "metadata": {},
   "outputs": [],
   "source": [
    "import tensorflow as tf\n",
    "import os\n",
    "import glob\n",
    "from tensorflow.keras import datasets, layers, models\n",
    "import matplotlib.pyplot as plt\n",
    "import pandas as pd\n",
    "from PIL import Image\n",
    "import numpy as np\n",
    "from keras.preprocessing.image import img_to_array, load_img\n",
    "from keras.layers.normalization import BatchNormalization"
   ]
  },
  {
   "cell_type": "code",
   "execution_count": 18,
   "metadata": {
    "scrolled": true
   },
   "outputs": [
    {
     "name": "stdout",
     "output_type": "stream",
     "text": [
      "(1915, 1)\n",
      "(507, 1)\n",
      "(1002, 1)\n"
     ]
    }
   ],
   "source": [
    "# Convert the label from .csv files to numpy array\n",
    "# for train label\n",
    "train_label = pd.read_csv(r'') #Path for training label.csv file\n",
    "label_list = train_label.values.tolist()\n",
    "for j in label_list: \n",
    "    del j[0]\n",
    "label_list = np.array(label_list)\n",
    "print(label_list.shape)\n",
    "\n",
    "# for validation label\n",
    "validation_label = pd.read_csv(r'') #Path for validation_label.csv file\n",
    "valid_label_list = validation_label.values.tolist()\n",
    "for k in valid_label_list: \n",
    "    del k[0]\n",
    "valid_label_list = np.array(valid_label_list)\n",
    "print(valid_label_list.shape)\n",
    "\n",
    "# for validation label\n",
    "test_label = pd.read_csv(r'') #Path for test_label.csv file\n",
    "test_label_list = test_label.values.tolist()\n",
    "for k in test_label_list: \n",
    "    del k[0]\n",
    "test_label_list = np.array(test_label_list)\n",
    "print(test_label_list.shape)"
   ]
  },
  {
   "cell_type": "markdown",
   "metadata": {},
   "source": [
    "**Load and process the images from train data**"
   ]
  },
  {
   "cell_type": "code",
   "execution_count": 19,
   "metadata": {},
   "outputs": [
    {
     "name": "stdout",
     "output_type": "stream",
     "text": [
      "(1915, 32, 32, 3)\n",
      "1915\n"
     ]
    }
   ],
   "source": [
    "# load the image from train data\n",
    "img_dir = r\"\" #Image path for cropped and resized images\n",
    "data_path = os.path.join(img_dir,'*g') \n",
    "files = glob.glob(data_path) \n",
    "\n",
    "img_array = []\n",
    "\n",
    "for i in files:\n",
    "    img = load_img(i)\n",
    "    img_array.append(img_to_array(img))\n",
    "    \n",
    "img_array = np.array(img_array)    \n",
    "print(img_array.shape)\n",
    "# Normalize data in the numppy array\n",
    "img_array = img_array/255.0\n",
    "print(len(img_array))"
   ]
  },
  {
   "cell_type": "markdown",
   "metadata": {},
   "source": [
    "**Load and process the images from validation data**"
   ]
  },
  {
   "cell_type": "code",
   "execution_count": 20,
   "metadata": {},
   "outputs": [
    {
     "name": "stdout",
     "output_type": "stream",
     "text": [
      "(507, 32, 32, 3)\n",
      "507\n"
     ]
    }
   ],
   "source": [
    "# load the image from validation data\n",
    "v_img_dir = r\"\" #Image path for validation cropped and resized images\n",
    "v_data_path = os.path.join(v_img_dir,'*g') \n",
    "v_files = glob.glob(v_data_path) \n",
    "\n",
    "v_img_array = []\n",
    "\n",
    "for o in v_files:\n",
    "    v_img = load_img(o)\n",
    "    v_img_array.append(img_to_array(v_img))\n",
    "    \n",
    "v_img_array = np.array(v_img_array)    \n",
    "\n",
    "print(v_img_array.shape)\n",
    "# Normalize data in the numppy array\n",
    "v_img_array = v_img_array/255.0\n",
    "print(len(v_img_array))"
   ]
  },
  {
   "cell_type": "markdown",
   "metadata": {},
   "source": [
    "**Load and process the images from test data**"
   ]
  },
  {
   "cell_type": "code",
   "execution_count": 21,
   "metadata": {},
   "outputs": [
    {
     "name": "stdout",
     "output_type": "stream",
     "text": [
      "1002\n",
      "(1002, 32, 32, 3)\n",
      "1002\n"
     ]
    }
   ],
   "source": [
    "# load the image from test data\n",
    "t_img_dir = r\"\" #Image path for test cropped and resized images\n",
    "t_data_path = os.path.join(t_img_dir,'*g') \n",
    "t_files = glob.glob(t_data_path) \n",
    "\n",
    "t_img_array = []\n",
    "tcount = 0\n",
    "\n",
    "for p in t_files:\n",
    "    t_img = load_img(p)\n",
    "    t_img_array.append(img_to_array(t_img))\n",
    "    tcount += 1\n",
    "t_img_array = np.array(t_img_array)    \n",
    "print(tcount)\n",
    "print(t_img_array.shape)\n",
    "# Normalize data in the numppy array\n",
    "t_img_array = t_img_array/255.0\n",
    "print(len(t_img_array))"
   ]
  },
  {
   "cell_type": "code",
   "execution_count": 22,
   "metadata": {},
   "outputs": [
    {
     "name": "stdout",
     "output_type": "stream",
     "text": [
      "Model: \"sequential_4\"\n",
      "_________________________________________________________________\n",
      "Layer (type)                 Output Shape              Param #   \n",
      "=================================================================\n",
      "conv2d_13 (Conv2D)           (None, 30, 30, 8)         224       \n",
      "_________________________________________________________________\n",
      "max_pooling2d_4 (MaxPooling2 (None, 15, 15, 8)         0         \n",
      "_________________________________________________________________\n",
      "conv2d_14 (Conv2D)           (None, 13, 13, 16)        1168      \n",
      "_________________________________________________________________\n",
      "max_pooling2d_5 (MaxPooling2 (None, 6, 6, 16)          0         \n",
      "_________________________________________________________________\n",
      "conv2d_15 (Conv2D)           (None, 5, 5, 16)          1040      \n",
      "_________________________________________________________________\n",
      "conv2d_16 (Conv2D)           (None, 5, 5, 16)          272       \n",
      "_________________________________________________________________\n",
      "flatten_3 (Flatten)          (None, 400)               0         \n",
      "_________________________________________________________________\n",
      "dense_9 (Dense)              (None, 16)                6416      \n",
      "_________________________________________________________________\n",
      "dense_10 (Dense)             (None, 16)                272       \n",
      "_________________________________________________________________\n",
      "dense_11 (Dense)             (None, 2)                 34        \n",
      "=================================================================\n",
      "Total params: 9,426\n",
      "Trainable params: 9,426\n",
      "Non-trainable params: 0\n",
      "_________________________________________________________________\n"
     ]
    }
   ],
   "source": [
    "# Design a sequential CNN model\n",
    "model = models.Sequential()\n",
    "model.add(layers.Conv2D(8, (3, 3), activation='relu', input_shape=(32, 32, 3)))\n",
    "model.add(layers.MaxPooling2D((2, 2)))\n",
    "model.add(layers.Conv2D(16, (3, 3), activation='relu'))\n",
    "model.add(layers.MaxPooling2D((2, 2)))\n",
    "model.add(layers.Conv2D(16, (2, 2), activation='relu'))\n",
    "model.add(layers.Conv2D(16, (1, 1), activation='relu'))\n",
    "model.add(layers.Flatten())\n",
    "model.add(layers.Dense(16, activation='relu'))\n",
    "model.add(layers.Dense(16, activation='softmax'))\n",
    "model.add(layers.Dense(2))\n",
    "model.summary()"
   ]
  },
  {
   "cell_type": "code",
   "execution_count": 23,
   "metadata": {},
   "outputs": [],
   "source": [
    "# Compile the model with 'SGD' optimizer and sparse_categorical_crossentropy loss function\n",
    "model.compile(optimizer='SGD',\n",
    "              loss='sparse_categorical_crossentropy',\n",
    "              metrics=['accuracy'])"
   ]
  },
  {
   "cell_type": "code",
   "execution_count": 29,
   "metadata": {
    "scrolled": true
   },
   "outputs": [
    {
     "name": "stdout",
     "output_type": "stream",
     "text": [
      "Epoch 1/50\n",
      "60/60 [==============================] - 1s 10ms/step - loss: 0.6038 - accuracy: 0.6961 - val_loss: 1.1959 - val_accuracy: 0.0907\n",
      "Epoch 2/50\n",
      "60/60 [==============================] - 1s 10ms/step - loss: 0.6024 - accuracy: 0.6961 - val_loss: 1.1909 - val_accuracy: 0.0907\n",
      "Epoch 3/50\n",
      "60/60 [==============================] - 1s 10ms/step - loss: 0.6008 - accuracy: 0.6961 - val_loss: 1.2393 - val_accuracy: 0.0907\n",
      "Epoch 4/50\n",
      "60/60 [==============================] - 1s 9ms/step - loss: 0.5990 - accuracy: 0.6961 - val_loss: 1.2415 - val_accuracy: 0.0907\n",
      "Epoch 5/50\n",
      "60/60 [==============================] - 1s 9ms/step - loss: 0.5967 - accuracy: 0.6961 - val_loss: 1.2871 - val_accuracy: 0.0907\n",
      "Epoch 6/50\n",
      "60/60 [==============================] - 1s 10ms/step - loss: 0.5950 - accuracy: 0.6961 - val_loss: 1.3464 - val_accuracy: 0.0907\n",
      "Epoch 7/50\n",
      "60/60 [==============================] - 1s 10ms/step - loss: 0.5927 - accuracy: 0.6961 - val_loss: 1.3073 - val_accuracy: 0.0907\n",
      "Epoch 8/50\n",
      "60/60 [==============================] - 1s 10ms/step - loss: 0.5899 - accuracy: 0.6961 - val_loss: 1.4073 - val_accuracy: 0.0907\n",
      "Epoch 9/50\n",
      "60/60 [==============================] - 1s 10ms/step - loss: 0.5874 - accuracy: 0.6961 - val_loss: 1.4600 - val_accuracy: 0.0907\n",
      "Epoch 10/50\n",
      "60/60 [==============================] - 1s 10ms/step - loss: 0.5849 - accuracy: 0.6961 - val_loss: 1.4623 - val_accuracy: 0.0907\n",
      "Epoch 11/50\n",
      "60/60 [==============================] - 1s 12ms/step - loss: 0.5838 - accuracy: 0.6961 - val_loss: 1.6105 - val_accuracy: 0.0907\n",
      "Epoch 12/50\n",
      "60/60 [==============================] - 1s 11ms/step - loss: 0.5821 - accuracy: 0.6961 - val_loss: 1.6352 - val_accuracy: 0.0907\n",
      "Epoch 13/50\n",
      "60/60 [==============================] - 1s 14ms/step - loss: 0.5811 - accuracy: 0.6961 - val_loss: 1.5483 - val_accuracy: 0.0907\n",
      "Epoch 14/50\n",
      "60/60 [==============================] - 1s 15ms/step - loss: 0.5813 - accuracy: 0.6961 - val_loss: 1.5422 - val_accuracy: 0.0907\n",
      "Epoch 15/50\n",
      "60/60 [==============================] - 1s 10ms/step - loss: 0.5798 - accuracy: 0.6961 - val_loss: 1.6298 - val_accuracy: 0.0907\n",
      "Epoch 16/50\n",
      "60/60 [==============================] - 1s 10ms/step - loss: 0.5783 - accuracy: 0.6961 - val_loss: 1.4144 - val_accuracy: 0.0907\n",
      "Epoch 17/50\n",
      "60/60 [==============================] - 1s 10ms/step - loss: 0.5792 - accuracy: 0.6961 - val_loss: 1.7561 - val_accuracy: 0.0907\n",
      "Epoch 18/50\n",
      "60/60 [==============================] - 1s 10ms/step - loss: 0.5785 - accuracy: 0.6961 - val_loss: 1.7289 - val_accuracy: 0.0907\n",
      "Epoch 19/50\n",
      "60/60 [==============================] - 1s 10ms/step - loss: 0.5787 - accuracy: 0.6961 - val_loss: 1.5993 - val_accuracy: 0.0907\n",
      "Epoch 20/50\n",
      "60/60 [==============================] - 1s 11ms/step - loss: 0.5763 - accuracy: 0.6961 - val_loss: 1.5247 - val_accuracy: 0.0907\n",
      "Epoch 21/50\n",
      "60/60 [==============================] - 1s 10ms/step - loss: 0.5787 - accuracy: 0.6961 - val_loss: 1.5092 - val_accuracy: 0.0907\n",
      "Epoch 22/50\n",
      "60/60 [==============================] - 1s 10ms/step - loss: 0.5786 - accuracy: 0.6961 - val_loss: 1.8060 - val_accuracy: 0.0907\n",
      "Epoch 23/50\n",
      "60/60 [==============================] - 1s 10ms/step - loss: 0.5769 - accuracy: 0.6961 - val_loss: 1.8378 - val_accuracy: 0.0907\n",
      "Epoch 24/50\n",
      "60/60 [==============================] - 1s 10ms/step - loss: 0.5783 - accuracy: 0.6961 - val_loss: 1.7782 - val_accuracy: 0.0907\n",
      "Epoch 25/50\n",
      "60/60 [==============================] - 1s 10ms/step - loss: 0.5771 - accuracy: 0.6961 - val_loss: 1.5987 - val_accuracy: 0.0907\n",
      "Epoch 26/50\n",
      "60/60 [==============================] - 1s 10ms/step - loss: 0.5764 - accuracy: 0.6961 - val_loss: 1.6456 - val_accuracy: 0.0907\n",
      "Epoch 27/50\n",
      "60/60 [==============================] - 1s 10ms/step - loss: 0.5768 - accuracy: 0.6961 - val_loss: 1.7274 - val_accuracy: 0.0907\n",
      "Epoch 28/50\n",
      "60/60 [==============================] - 1s 10ms/step - loss: 0.5746 - accuracy: 0.6961 - val_loss: 1.5507 - val_accuracy: 0.0907\n",
      "Epoch 29/50\n",
      "60/60 [==============================] - 1s 10ms/step - loss: 0.5753 - accuracy: 0.6961 - val_loss: 1.9548 - val_accuracy: 0.0907\n",
      "Epoch 30/50\n",
      "60/60 [==============================] - 1s 10ms/step - loss: 0.5755 - accuracy: 0.6961 - val_loss: 1.8766 - val_accuracy: 0.0907\n",
      "Epoch 31/50\n",
      "60/60 [==============================] - 1s 10ms/step - loss: 0.5768 - accuracy: 0.6961 - val_loss: 1.7521 - val_accuracy: 0.0907\n",
      "Epoch 32/50\n",
      "60/60 [==============================] - 1s 10ms/step - loss: 0.5773 - accuracy: 0.6961 - val_loss: 1.7162 - val_accuracy: 0.0907\n",
      "Epoch 33/50\n",
      "60/60 [==============================] - 1s 10ms/step - loss: 0.5772 - accuracy: 0.6961 - val_loss: 1.7325 - val_accuracy: 0.0907\n",
      "Epoch 34/50\n",
      "60/60 [==============================] - 1s 10ms/step - loss: 0.5751 - accuracy: 0.6961 - val_loss: 1.9802 - val_accuracy: 0.0907\n",
      "Epoch 35/50\n",
      "60/60 [==============================] - 1s 10ms/step - loss: 0.5757 - accuracy: 0.6961 - val_loss: 1.6973 - val_accuracy: 0.0907\n",
      "Epoch 36/50\n",
      "60/60 [==============================] - 1s 10ms/step - loss: 0.5756 - accuracy: 0.6961 - val_loss: 1.4702 - val_accuracy: 0.0907\n",
      "Epoch 37/50\n",
      "60/60 [==============================] - 1s 10ms/step - loss: 0.5760 - accuracy: 0.6961 - val_loss: 1.5809 - val_accuracy: 0.0907\n",
      "Epoch 38/50\n",
      "60/60 [==============================] - 1s 10ms/step - loss: 0.5761 - accuracy: 0.6961 - val_loss: 1.8245 - val_accuracy: 0.0907\n",
      "Epoch 39/50\n",
      "60/60 [==============================] - 1s 9ms/step - loss: 0.5754 - accuracy: 0.6961 - val_loss: 1.8871 - val_accuracy: 0.0907\n",
      "Epoch 40/50\n",
      "60/60 [==============================] - 1s 10ms/step - loss: 0.5757 - accuracy: 0.6961 - val_loss: 1.9044 - val_accuracy: 0.0907\n",
      "Epoch 41/50\n",
      "60/60 [==============================] - 1s 10ms/step - loss: 0.5751 - accuracy: 0.6961 - val_loss: 1.6821 - val_accuracy: 0.0907\n",
      "Epoch 42/50\n",
      "60/60 [==============================] - 1s 10ms/step - loss: 0.5750 - accuracy: 0.6961 - val_loss: 1.9039 - val_accuracy: 0.0907\n",
      "Epoch 43/50\n",
      "60/60 [==============================] - 1s 10ms/step - loss: 0.5754 - accuracy: 0.6961 - val_loss: 1.7054 - val_accuracy: 0.0907\n",
      "Epoch 44/50\n",
      "60/60 [==============================] - 1s 13ms/step - loss: 0.5747 - accuracy: 0.6961 - val_loss: 1.8894 - val_accuracy: 0.0907\n",
      "Epoch 45/50\n",
      "60/60 [==============================] - 1s 10ms/step - loss: 0.5751 - accuracy: 0.6961 - val_loss: 1.7079 - val_accuracy: 0.0907\n",
      "Epoch 46/50\n",
      "60/60 [==============================] - 1s 10ms/step - loss: 0.5753 - accuracy: 0.6961 - val_loss: 1.9496 - val_accuracy: 0.0907\n",
      "Epoch 47/50\n",
      "60/60 [==============================] - 1s 10ms/step - loss: 0.5760 - accuracy: 0.6961 - val_loss: 1.8832 - val_accuracy: 0.0907\n",
      "Epoch 48/50\n",
      "60/60 [==============================] - 1s 10ms/step - loss: 0.5730 - accuracy: 0.6961 - val_loss: 2.1683 - val_accuracy: 0.0907\n",
      "Epoch 49/50\n",
      "60/60 [==============================] - 1s 10ms/step - loss: 0.5738 - accuracy: 0.6961 - val_loss: 2.1668 - val_accuracy: 0.0907\n",
      "Epoch 50/50\n",
      "60/60 [==============================] - 1s 10ms/step - loss: 0.5761 - accuracy: 0.6961 - val_loss: 1.9181 - val_accuracy: 0.0907\n",
      "WARNING:tensorflow:From C:\\Users\\tejug\\Conda\\lib\\site-packages\\tensorflow\\python\\training\\tracking\\tracking.py:111: Model.state_updates (from tensorflow.python.keras.engine.training) is deprecated and will be removed in a future version.\n",
      "Instructions for updating:\n",
      "This property should not be used in TensorFlow 2.0, as updates are applied automatically.\n",
      "WARNING:tensorflow:From C:\\Users\\tejug\\Conda\\lib\\site-packages\\tensorflow\\python\\training\\tracking\\tracking.py:111: Layer.updates (from tensorflow.python.keras.engine.base_layer) is deprecated and will be removed in a future version.\n",
      "Instructions for updating:\n",
      "This property should not be used in TensorFlow 2.0, as updates are applied automatically.\n",
      "INFO:tensorflow:Assets written to: C:\\Users\\tejug\\OneDrive\\Documents\\Machine Learning\\Project\\Code\\final code\\assets\n"
     ]
    }
   ],
   "source": [
    "# Train the model\n",
    "history = model.fit(img_array, label_list, epochs=50, validation_data=(v_img_array, valid_label_list))\n",
    "model.save(r'C:\\Code\\final code') # Path to save the trained model"
   ]
  },
  {
   "cell_type": "markdown",
   "metadata": {},
   "source": [
    "### Evaluate the model"
   ]
  },
  {
   "cell_type": "code",
   "execution_count": 30,
   "metadata": {},
   "outputs": [
    {
     "name": "stdout",
     "output_type": "stream",
     "text": [
      "32/32 - 0s - loss: 1.9191 - accuracy: 0.0938\n",
      "Test Loss : 1.9191396236419678 and test accuracy : 0.09381237626075745\n"
     ]
    },
    {
     "data": {
      "image/png": "[encoded data removed]",
      "text/plain": [
       "<Figure size 432x288 with 1 Axes>"
      ]
     },
     "metadata": {
      "needs_background": "light"
     },
     "output_type": "display_data"
    }
   ],
   "source": [
    "plt.plot(history.history['accuracy'], label='accuracy')\n",
    "plt.plot(history.history['val_accuracy'], label = 'val_accuracy')\n",
    "plt.xlabel('Epoch')\n",
    "plt.ylabel('Accuracy')\n",
    "plt.ylim([0, 1.25])\n",
    "plt.legend(loc='lower right')\n",
    "\n",
    "test_loss, test_acc = model.evaluate(t_img_array,  test_label_list, verbose=2)\n",
    "print(\"Test Loss : \" + str(test_loss) + \" and test accuracy : \" + str(test_acc))"
   ]
  },
  {
   "cell_type": "code",
   "execution_count": null,
   "metadata": {},
   "outputs": [],
   "source": []
  }
 ],
 "metadata": {
  "kernelspec": {
   "display_name": "Python 3",
   "language": "python",
   "name": "python3"
  },
  "language_info": {
   "codemirror_mode": {
    "name": "ipython",
    "version": 3
   },
   "file_extension": ".py",
   "mimetype": "text/x-python",
   "name": "python",
   "nbconvert_exporter": "python",
   "pygments_lexer": "ipython3",
   "version": "3.8.3"
  }
 },
 "nbformat": 4,
 "nbformat_minor": 4
}
